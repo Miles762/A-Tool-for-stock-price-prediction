{
 "cells": [
  {
   "attachments": {},
   "cell_type": "markdown",
   "metadata": {},
   "source": [
    "### Part 1- Data Preprocessing"
   ]
  },
  {
   "cell_type": "code",
   "execution_count": 3,
   "metadata": {},
   "outputs": [],
   "source": [
    "import numpy as np\n",
    "import matplotlib.pyplot as plt\n",
    "import pandas as pd\n",
    "from sklearn.metrics import r2_score, mean_absolute_error, mean_squared_error\n"
   ]
  },
  {
   "cell_type": "code",
   "execution_count": 4,
   "metadata": {},
   "outputs": [],
   "source": [
    "# Importing the training set\n",
    "dataset_train = pd.read_csv('Microsoft_Stock_Price_Train.csv')\n",
    "training_set = dataset_train.iloc[:, 1:2].values"
   ]
  },
  {
   "cell_type": "code",
   "execution_count": 5,
   "metadata": {},
   "outputs": [],
   "source": [
    "# Feature Scaling\n",
    "from sklearn.preprocessing import MinMaxScaler\n",
    "sc = MinMaxScaler(feature_range = (0, 1))\n",
    "training_set_scaled = sc.fit_transform(training_set)"
   ]
  },
  {
   "cell_type": "code",
   "execution_count": 6,
   "metadata": {},
   "outputs": [],
   "source": [
    "# Creating a data structure with 60 timesteps and 1 output\n",
    "X_train = []\n",
    "y_train = []\n",
    "for i in range(60, 1259):\n",
    "    X_train.append(training_set_scaled[i-60:i, 0])\n",
    "    y_train.append(training_set_scaled[i, 0])\n",
    "X_train, y_train = np.array(X_train), np.array(y_train)"
   ]
  },
  {
   "attachments": {},
   "cell_type": "markdown",
   "metadata": {},
   "source": [
    "Giving 3 dimensions using keras\n",
    "\n",
    "1st Dimension- no. of stock prices\n",
    "\n",
    "2nd Dimension- no. of timestamps\n",
    "\n",
    "3rd Dimension- no. of indicators (i.e. only one= msft stock price)\n",
    "\n"
   ]
  },
  {
   "cell_type": "code",
   "execution_count": 7,
   "metadata": {},
   "outputs": [],
   "source": [
    "# Reshaping\n",
    "X_train = np.reshape(X_train, (X_train.shape[0], X_train.shape[1], 1))"
   ]
  },
  {
   "attachments": {},
   "cell_type": "markdown",
   "metadata": {},
   "source": [
    "### Part 2- Building the RNN"
   ]
  },
  {
   "cell_type": "code",
   "execution_count": 8,
   "metadata": {},
   "outputs": [],
   "source": [
    "# Importing the Keras libraries and packages\n",
    "from keras.models import Sequential   #To create a neural network object representing sequence of layers\n",
    "from keras.layers import Dense        #To add the output layer\n",
    "from keras.layers import LSTM  #To add LSTM layers\n",
    "from keras.layers import Dropout #To add dropout regularization"
   ]
  },
  {
   "cell_type": "code",
   "execution_count": 9,
   "metadata": {},
   "outputs": [],
   "source": [
    "# Initialising the RNN\n",
    "regressor = Sequential() #We are predicting continuous value"
   ]
  },
  {
   "cell_type": "code",
   "execution_count": 10,
   "metadata": {},
   "outputs": [],
   "source": [
    "# Adding the first LSTM layer and some Dropout regularisation\n",
    "regressor.add(LSTM(units = 50, return_sequences = True, input_shape = (X_train.shape[1], 1)))\n",
    "regressor.add(Dropout(0.2))"
   ]
  },
  {
   "cell_type": "code",
   "execution_count": 11,
   "metadata": {},
   "outputs": [],
   "source": [
    "# Adding a second LSTM layer and some Dropout regularisation\n",
    "regressor.add(LSTM(units = 50, return_sequences = True))\n",
    "regressor.add(Dropout(0.2))"
   ]
  },
  {
   "cell_type": "code",
   "execution_count": 12,
   "metadata": {},
   "outputs": [],
   "source": [
    "# Adding a third LSTM layer and some Dropout regularisation\n",
    "regressor.add(LSTM(units = 50, return_sequences = True))\n",
    "regressor.add(Dropout(0.2))"
   ]
  },
  {
   "cell_type": "code",
   "execution_count": 13,
   "metadata": {},
   "outputs": [],
   "source": [
    "# Adding a fourth LSTM layer and some Dropout regularisation\n",
    "regressor.add(LSTM(units = 50))\n",
    "regressor.add(Dropout(0.2))"
   ]
  },
  {
   "cell_type": "code",
   "execution_count": 14,
   "metadata": {},
   "outputs": [],
   "source": [
    "# Adding the output layer\n",
    "regressor.add(Dense(units = 1))"
   ]
  },
  {
   "cell_type": "code",
   "execution_count": 15,
   "metadata": {},
   "outputs": [],
   "source": [
    "# Compiling the RNN\n",
    "regressor.compile(optimizer = 'adam', loss = 'mean_squared_error')"
   ]
  },
  {
   "cell_type": "code",
   "execution_count": 16,
   "metadata": {},
   "outputs": [
    {
     "name": "stdout",
     "output_type": "stream",
     "text": [
      "Epoch 1/100\n",
      "38/38 [==============================] - 20s 165ms/step - loss: 0.0329\n",
      "Epoch 2/100\n",
      "38/38 [==============================] - 6s 164ms/step - loss: 0.0064\n",
      "Epoch 3/100\n",
      "38/38 [==============================] - 6s 165ms/step - loss: 0.0064\n",
      "Epoch 4/100\n",
      "38/38 [==============================] - 6s 169ms/step - loss: 0.0053\n",
      "Epoch 5/100\n",
      "38/38 [==============================] - 6s 164ms/step - loss: 0.0044\n",
      "Epoch 6/100\n",
      "38/38 [==============================] - 6s 162ms/step - loss: 0.0039\n",
      "Epoch 7/100\n",
      "38/38 [==============================] - 6s 162ms/step - loss: 0.0043\n",
      "Epoch 8/100\n",
      "38/38 [==============================] - 7s 178ms/step - loss: 0.0039\n",
      "Epoch 9/100\n",
      "38/38 [==============================] - 6s 170ms/step - loss: 0.0043\n",
      "Epoch 10/100\n",
      "38/38 [==============================] - 7s 175ms/step - loss: 0.0047\n",
      "Epoch 11/100\n",
      "38/38 [==============================] - 6s 156ms/step - loss: 0.0036\n",
      "Epoch 12/100\n",
      "38/38 [==============================] - 6s 171ms/step - loss: 0.0037\n",
      "Epoch 13/100\n",
      "38/38 [==============================] - 7s 181ms/step - loss: 0.0042\n",
      "Epoch 14/100\n",
      "38/38 [==============================] - 7s 185ms/step - loss: 0.0040\n",
      "Epoch 15/100\n",
      "38/38 [==============================] - 6s 170ms/step - loss: 0.0038\n",
      "Epoch 16/100\n",
      "38/38 [==============================] - 6s 165ms/step - loss: 0.0033\n",
      "Epoch 17/100\n",
      "38/38 [==============================] - 6s 160ms/step - loss: 0.0031\n",
      "Epoch 18/100\n",
      "38/38 [==============================] - 7s 183ms/step - loss: 0.0034\n",
      "Epoch 19/100\n",
      "38/38 [==============================] - 7s 171ms/step - loss: 0.0030\n",
      "Epoch 20/100\n",
      "38/38 [==============================] - 6s 164ms/step - loss: 0.0028\n",
      "Epoch 21/100\n",
      "38/38 [==============================] - 6s 168ms/step - loss: 0.0028\n",
      "Epoch 22/100\n",
      "38/38 [==============================] - 8s 213ms/step - loss: 0.0027\n",
      "Epoch 23/100\n",
      "38/38 [==============================] - 8s 202ms/step - loss: 0.0026\n",
      "Epoch 24/100\n",
      "38/38 [==============================] - 8s 204ms/step - loss: 0.0029\n",
      "Epoch 25/100\n",
      "38/38 [==============================] - 9s 226ms/step - loss: 0.0033\n",
      "Epoch 26/100\n",
      "38/38 [==============================] - 7s 195ms/step - loss: 0.0026\n",
      "Epoch 27/100\n",
      "38/38 [==============================] - 7s 193ms/step - loss: 0.0024\n",
      "Epoch 28/100\n",
      "38/38 [==============================] - 7s 193ms/step - loss: 0.0023\n",
      "Epoch 29/100\n",
      "38/38 [==============================] - 6s 166ms/step - loss: 0.0024\n",
      "Epoch 30/100\n",
      "38/38 [==============================] - 7s 179ms/step - loss: 0.0024\n",
      "Epoch 31/100\n",
      "38/38 [==============================] - 7s 182ms/step - loss: 0.0027\n",
      "Epoch 32/100\n",
      "38/38 [==============================] - 5s 121ms/step - loss: 0.0023\n",
      "Epoch 33/100\n",
      "38/38 [==============================] - 5s 118ms/step - loss: 0.0025\n",
      "Epoch 34/100\n",
      "38/38 [==============================] - 5s 129ms/step - loss: 0.0020\n",
      "Epoch 35/100\n",
      "38/38 [==============================] - 5s 127ms/step - loss: 0.0022\n",
      "Epoch 36/100\n",
      "38/38 [==============================] - 5s 133ms/step - loss: 0.0024\n",
      "Epoch 37/100\n",
      "38/38 [==============================] - 5s 137ms/step - loss: 0.0023\n",
      "Epoch 38/100\n",
      "38/38 [==============================] - 5s 142ms/step - loss: 0.0022\n",
      "Epoch 39/100\n",
      "38/38 [==============================] - 5s 137ms/step - loss: 0.0021\n",
      "Epoch 40/100\n",
      "38/38 [==============================] - 5s 123ms/step - loss: 0.0025\n",
      "Epoch 41/100\n",
      "38/38 [==============================] - 5s 126ms/step - loss: 0.0022\n",
      "Epoch 42/100\n",
      "38/38 [==============================] - 5s 138ms/step - loss: 0.0026\n",
      "Epoch 43/100\n",
      "38/38 [==============================] - 6s 151ms/step - loss: 0.0021\n",
      "Epoch 44/100\n",
      "38/38 [==============================] - 5s 141ms/step - loss: 0.0021\n",
      "Epoch 45/100\n",
      "38/38 [==============================] - 6s 151ms/step - loss: 0.0021\n",
      "Epoch 46/100\n",
      "38/38 [==============================] - 5s 135ms/step - loss: 0.0026\n",
      "Epoch 47/100\n",
      "38/38 [==============================] - 5s 140ms/step - loss: 0.0020\n",
      "Epoch 48/100\n",
      "38/38 [==============================] - 5s 143ms/step - loss: 0.0021\n",
      "Epoch 49/100\n",
      "38/38 [==============================] - 6s 167ms/step - loss: 0.0020\n",
      "Epoch 50/100\n",
      "38/38 [==============================] - 5s 135ms/step - loss: 0.0018\n",
      "Epoch 51/100\n",
      "38/38 [==============================] - 5s 139ms/step - loss: 0.0020\n",
      "Epoch 52/100\n",
      "38/38 [==============================] - 5s 128ms/step - loss: 0.0018\n",
      "Epoch 53/100\n",
      "38/38 [==============================] - 5s 135ms/step - loss: 0.0018\n",
      "Epoch 54/100\n",
      "38/38 [==============================] - 5s 127ms/step - loss: 0.0017\n",
      "Epoch 55/100\n",
      "38/38 [==============================] - 5s 134ms/step - loss: 0.0022\n",
      "Epoch 56/100\n",
      "38/38 [==============================] - 5s 131ms/step - loss: 0.0020\n",
      "Epoch 57/100\n",
      "38/38 [==============================] - 5s 143ms/step - loss: 0.0019\n",
      "Epoch 58/100\n",
      "38/38 [==============================] - 5s 138ms/step - loss: 0.0018\n",
      "Epoch 59/100\n",
      "38/38 [==============================] - 5s 133ms/step - loss: 0.0017\n",
      "Epoch 60/100\n",
      "38/38 [==============================] - 5s 137ms/step - loss: 0.0016\n",
      "Epoch 61/100\n",
      "38/38 [==============================] - 4s 119ms/step - loss: 0.0016\n",
      "Epoch 62/100\n",
      "38/38 [==============================] - 6s 167ms/step - loss: 0.0015\n",
      "Epoch 63/100\n",
      "38/38 [==============================] - 7s 177ms/step - loss: 0.0018\n",
      "Epoch 64/100\n",
      "38/38 [==============================] - 6s 160ms/step - loss: 0.0018\n",
      "Epoch 65/100\n",
      "38/38 [==============================] - 5s 129ms/step - loss: 0.0018\n",
      "Epoch 66/100\n",
      "38/38 [==============================] - 4s 115ms/step - loss: 0.0017\n",
      "Epoch 67/100\n",
      "38/38 [==============================] - 5s 125ms/step - loss: 0.0017\n",
      "Epoch 68/100\n",
      "38/38 [==============================] - 5s 118ms/step - loss: 0.0016\n",
      "Epoch 69/100\n",
      "38/38 [==============================] - 5s 126ms/step - loss: 0.0017\n",
      "Epoch 70/100\n",
      "38/38 [==============================] - 5s 132ms/step - loss: 0.0017\n",
      "Epoch 71/100\n",
      "38/38 [==============================] - 5s 125ms/step - loss: 0.0015\n",
      "Epoch 72/100\n",
      "38/38 [==============================] - 5s 120ms/step - loss: 0.0015\n",
      "Epoch 73/100\n",
      "38/38 [==============================] - 5s 130ms/step - loss: 0.0016\n",
      "Epoch 74/100\n",
      "38/38 [==============================] - 5s 123ms/step - loss: 0.0015\n",
      "Epoch 75/100\n",
      "38/38 [==============================] - 5s 128ms/step - loss: 0.0015\n",
      "Epoch 76/100\n",
      "38/38 [==============================] - 5s 123ms/step - loss: 0.0016\n",
      "Epoch 77/100\n",
      "38/38 [==============================] - 5s 129ms/step - loss: 0.0015\n",
      "Epoch 78/100\n",
      "38/38 [==============================] - 5s 137ms/step - loss: 0.0015\n",
      "Epoch 79/100\n",
      "38/38 [==============================] - 5s 126ms/step - loss: 0.0014\n",
      "Epoch 80/100\n",
      "38/38 [==============================] - 5s 126ms/step - loss: 0.0014\n",
      "Epoch 81/100\n",
      "38/38 [==============================] - 5s 131ms/step - loss: 0.0014\n",
      "Epoch 82/100\n",
      "38/38 [==============================] - 5s 133ms/step - loss: 0.0015\n",
      "Epoch 83/100\n",
      "38/38 [==============================] - 5s 125ms/step - loss: 0.0015\n",
      "Epoch 84/100\n",
      "38/38 [==============================] - 5s 137ms/step - loss: 0.0015\n",
      "Epoch 85/100\n",
      "38/38 [==============================] - 5s 126ms/step - loss: 0.0014\n",
      "Epoch 86/100\n",
      "38/38 [==============================] - 5s 132ms/step - loss: 0.0013\n",
      "Epoch 87/100\n",
      "38/38 [==============================] - 5s 128ms/step - loss: 0.0016\n",
      "Epoch 88/100\n",
      "38/38 [==============================] - 5s 129ms/step - loss: 0.0015\n",
      "Epoch 89/100\n",
      "38/38 [==============================] - 5s 134ms/step - loss: 0.0012\n",
      "Epoch 90/100\n",
      "38/38 [==============================] - 5s 126ms/step - loss: 0.0013\n",
      "Epoch 91/100\n",
      "38/38 [==============================] - 5s 128ms/step - loss: 0.0014\n",
      "Epoch 92/100\n",
      "38/38 [==============================] - 5s 120ms/step - loss: 0.0013\n",
      "Epoch 93/100\n",
      "38/38 [==============================] - 5s 125ms/step - loss: 0.0015\n",
      "Epoch 94/100\n",
      "38/38 [==============================] - 5s 123ms/step - loss: 0.0013\n",
      "Epoch 95/100\n",
      "38/38 [==============================] - 5s 126ms/step - loss: 0.0012\n",
      "Epoch 96/100\n",
      "38/38 [==============================] - 5s 130ms/step - loss: 0.0012\n",
      "Epoch 97/100\n",
      "38/38 [==============================] - 5s 130ms/step - loss: 0.0013\n",
      "Epoch 98/100\n",
      "38/38 [==============================] - 5s 127ms/step - loss: 0.0015\n",
      "Epoch 99/100\n",
      "38/38 [==============================] - 6s 146ms/step - loss: 0.0015\n",
      "Epoch 100/100\n",
      "38/38 [==============================] - 5s 130ms/step - loss: 0.0014\n"
     ]
    },
    {
     "data": {
      "image/png": "[encoded data removed]",
      "text/plain": [
       "<Figure size 640x480 with 1 Axes>"
      ]
     },
     "metadata": {},
     "output_type": "display_data"
    }
   ],
   "source": [
    "# Fitting the RNN to the Training set\n",
    "history = regressor.fit(X_train, y_train, epochs = 100, batch_size = 32)\n",
    "\n",
    "# Plotting the loss function values against the epochs\n",
    "plt.plot(history.history['loss'])\n",
    "plt.title('Training Loss')\n",
    "plt.xlabel('Epoch')\n",
    "plt.ylabel('Loss')\n",
    "plt.show()"
   ]
  },
  {
   "attachments": {},
   "cell_type": "markdown",
   "metadata": {},
   "source": [
    "### Part 3 - Making the predictions and visualising the results"
   ]
  },
  {
   "cell_type": "code",
   "execution_count": 17,
   "metadata": {},
   "outputs": [],
   "source": [
    " \n",
    " # Getting the real stock price of 2023\n",
    "dataset_test = pd.read_csv('Microsoft_Stock_Price_Test.csv')\n",
    "real_stock_price = dataset_test.iloc[:, 1:2].values"
   ]
  },
  {
   "cell_type": "code",
   "execution_count": 18,
   "metadata": {},
   "outputs": [
    {
     "name": "stdout",
     "output_type": "stream",
     "text": [
      "1/1 [==============================] - 2s 2s/step\n"
     ]
    }
   ],
   "source": [
    "# Getting the predicted stock price of 2017\n",
    "dataset_total = pd.concat((dataset_train['Open'], dataset_test['Open']), axis = 0)\n",
    "inputs = dataset_total[len(dataset_total) - len(dataset_test) - 60:].values\n",
    "inputs = inputs.reshape(-1,1)\n",
    "inputs = sc.transform(inputs)\n",
    "X_test = []\n",
    "for i in range(60, 79):\n",
    "    X_test.append(inputs[i-60:i, 0])\n",
    "X_test = np.array(X_test)\n",
    "X_test = np.reshape(X_test, (X_test.shape[0], X_test.shape[1], 1))\n",
    "predicted_stock_price = regressor.predict(X_test)\n",
    "predicted_stock_price = sc.inverse_transform(predicted_stock_price)"
   ]
  },
  {
   "cell_type": "code",
   "execution_count": 19,
   "metadata": {},
   "outputs": [
    {
     "data": {
      "image/png": "[encoded data removed]",
      "text/plain": [
       "<Figure size 640x480 with 1 Axes>"
      ]
     },
     "metadata": {},
     "output_type": "display_data"
    }
   ],
   "source": [
    "# Visualising the results\n",
    "plt.plot(real_stock_price, color = 'red', label = 'Real Microsoft Stock Price')\n",
    "plt.plot(predicted_stock_price, color = 'blue', label = 'Predicted Microsoft Stock Price')\n",
    "plt.title('Microsoft Stock Price Prediction')\n",
    "plt.xlabel('Time')\n",
    "plt.ylabel('Microsoft Stock Price')\n",
    "plt.legend()\n",
    "plt.savefig('figure.png', dpi=300)\n",
    "plt.show()"
   ]
  },
  {
   "attachments": {},
   "cell_type": "markdown",
   "metadata": {},
   "source": [
    "## Evaluating the model\n",
    "### Showing the closeness of predicted value and actual value"
   ]
  },
  {
   "cell_type": "code",
   "execution_count": 20,
   "metadata": {},
   "outputs": [
    {
     "name": "stdout",
     "output_type": "stream",
     "text": [
      "Root Mean Squared Error: 6.859353371303375\n",
      "Mean Absoulte Error: 5.977834502775494\n"
     ]
    }
   ],
   "source": [
    "# RMSE\n",
    "rmse = np.sqrt(mean_squared_error(real_stock_price, predicted_stock_price))\n",
    "print('Root Mean Squared Error:', rmse)\n",
    "# Calculate MAE\n",
    "mae = mean_absolute_error(real_stock_price, predicted_stock_price)\n",
    "print('Mean Absoulte Error:', mae)"
   ]
  },
  {
   "attachments": {},
   "cell_type": "markdown",
   "metadata": {},
   "source": [
    "### Showing the variance in the Target variable"
   ]
  },
  {
   "cell_type": "code",
   "execution_count": 25,
   "metadata": {},
   "outputs": [
    {
     "name": "stdout",
     "output_type": "stream",
     "text": [
      "R-square: 0.0113552920167862\n"
     ]
    }
   ],
   "source": [
    "# R-squared to show how well the model fits the data\n",
    "r2 = r2_score(real_stock_price, predicted_stock_price)\n",
    "print('R-square:', r2)"
   ]
  },
  {
   "cell_type": "code",
   "execution_count": 22,
   "metadata": {},
   "outputs": [
    {
     "name": "stdout",
     "output_type": "stream",
     "text": [
      "Mean Squared Error: 47.050728672410976\n"
     ]
    }
   ],
   "source": [
    "# Calculate MSE\n",
    "mse = mean_squared_error(real_stock_price, predicted_stock_price)\n",
    "print('Mean Squared Error:', mse)"
   ]
  },
  {
   "cell_type": "code",
   "execution_count": 23,
   "metadata": {},
   "outputs": [
    {
     "name": "stdout",
     "output_type": "stream",
     "text": [
      "RMSE: 6.859353371303375\n"
     ]
    }
   ],
   "source": [
    "# Calculate RMSE\n",
    "rmse = np.sqrt(mse)\n",
    "print('RMSE:', rmse)"
   ]
  }
 ],
 "metadata": {
  "kernelspec": {
   "display_name": "Python 3",
   "language": "python",
   "name": "python3"
  },
  "language_info": {
   "codemirror_mode": {
    "name": "ipython",
    "version": 3
   },
   "file_extension": ".py",
   "mimetype": "text/x-python",
   "name": "python",
   "nbconvert_exporter": "python",
   "pygments_lexer": "ipython3",
   "version": "3.9.6"
  },
  "orig_nbformat": 4
 },
 "nbformat": 4,
 "nbformat_minor": 2
}
