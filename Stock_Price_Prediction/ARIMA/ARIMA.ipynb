{
 "cells": [
  {
   "cell_type": "code",
   "execution_count": 1,
   "metadata": {},
   "outputs": [],
   "source": [
    "import pandas as pd\n",
    "import numpy as np\n",
    "import matplotlib.pyplot as plt\n",
    "import seaborn as sns\n",
    "from sklearn.metrics import r2_score, mean_absolute_error, mean_squared_error\n"
   ]
  },
  {
   "cell_type": "code",
   "execution_count": 2,
   "metadata": {},
   "outputs": [],
   "source": [
    "df = pd.read_csv(\"Microsoft_Stock_Price_Train.csv\")"
   ]
  },
  {
   "cell_type": "code",
   "execution_count": 3,
   "metadata": {},
   "outputs": [
    {
     "data": {
      "text/html": [
       "<div>\n",
       "<style scoped>\n",
       "    .dataframe tbody tr th:only-of-type {\n",
       "        vertical-align: middle;\n",
       "    }\n",
       "\n",
       "    .dataframe tbody tr th {\n",
       "        vertical-align: top;\n",
       "    }\n",
       "\n",
       "    .dataframe thead th {\n",
       "        text-align: right;\n",
       "    }\n",
       "</style>\n",
       "<table border=\"1\" class=\"dataframe\">\n",
       "  <thead>\n",
       "    <tr style=\"text-align: right;\">\n",
       "      <th></th>\n",
       "      <th>Date</th>\n",
       "      <th>Open</th>\n",
       "      <th>High</th>\n",
       "      <th>Low</th>\n",
       "      <th>Close</th>\n",
       "      <th>Adj Close</th>\n",
       "      <th>Volume</th>\n",
       "    </tr>\n",
       "  </thead>\n",
       "  <tbody>\n",
       "    <tr>\n",
       "      <th>0</th>\n",
       "      <td>2018-01-02</td>\n",
       "      <td>86.129997</td>\n",
       "      <td>86.309998</td>\n",
       "      <td>85.500000</td>\n",
       "      <td>85.949997</td>\n",
       "      <td>80.738167</td>\n",
       "      <td>22483800</td>\n",
       "    </tr>\n",
       "    <tr>\n",
       "      <th>1</th>\n",
       "      <td>2018-01-03</td>\n",
       "      <td>86.059998</td>\n",
       "      <td>86.510002</td>\n",
       "      <td>85.970001</td>\n",
       "      <td>86.349998</td>\n",
       "      <td>81.113907</td>\n",
       "      <td>26061400</td>\n",
       "    </tr>\n",
       "    <tr>\n",
       "      <th>2</th>\n",
       "      <td>2018-01-04</td>\n",
       "      <td>86.589996</td>\n",
       "      <td>87.660004</td>\n",
       "      <td>86.570000</td>\n",
       "      <td>87.110001</td>\n",
       "      <td>81.827827</td>\n",
       "      <td>21912000</td>\n",
       "    </tr>\n",
       "    <tr>\n",
       "      <th>3</th>\n",
       "      <td>2018-01-05</td>\n",
       "      <td>87.660004</td>\n",
       "      <td>88.410004</td>\n",
       "      <td>87.430000</td>\n",
       "      <td>88.190002</td>\n",
       "      <td>82.842339</td>\n",
       "      <td>23407100</td>\n",
       "    </tr>\n",
       "    <tr>\n",
       "      <th>4</th>\n",
       "      <td>2018-01-08</td>\n",
       "      <td>88.199997</td>\n",
       "      <td>88.580002</td>\n",
       "      <td>87.599998</td>\n",
       "      <td>88.279999</td>\n",
       "      <td>82.926865</td>\n",
       "      <td>22113000</td>\n",
       "    </tr>\n",
       "  </tbody>\n",
       "</table>\n",
       "</div>"
      ],
      "text/plain": [
       "         Date       Open       High        Low      Close  Adj Close    Volume\n",
       "0  2018-01-02  86.129997  86.309998  85.500000  85.949997  80.738167  22483800\n",
       "1  2018-01-03  86.059998  86.510002  85.970001  86.349998  81.113907  26061400\n",
       "2  2018-01-04  86.589996  87.660004  86.570000  87.110001  81.827827  21912000\n",
       "3  2018-01-05  87.660004  88.410004  87.430000  88.190002  82.842339  23407100\n",
       "4  2018-01-08  88.199997  88.580002  87.599998  88.279999  82.926865  22113000"
      ]
     },
     "execution_count": 3,
     "metadata": {},
     "output_type": "execute_result"
    }
   ],
   "source": [
    "df.head()"
   ]
  },
  {
   "cell_type": "code",
   "execution_count": 4,
   "metadata": {},
   "outputs": [],
   "source": [
    "# df.info()"
   ]
  },
  {
   "cell_type": "code",
   "execution_count": 5,
   "metadata": {},
   "outputs": [],
   "source": [
    "# df.describe()"
   ]
  },
  {
   "cell_type": "code",
   "execution_count": 6,
   "metadata": {},
   "outputs": [],
   "source": [
    "df.Date= pd.to_datetime(df.Date)\n",
    "df2 =df.set_index('Date') # Converts date column of database from string format to datetime format"
   ]
  },
  {
   "cell_type": "code",
   "execution_count": 7,
   "metadata": {},
   "outputs": [],
   "source": [
    "# plt.figure(figsize=(10,6))\n",
    "# plt.subplot(2, 1, 1)\n",
    "# plt.title('Microsoft Stock Price')\n",
    "# plt.plot(df2.Close,label='Close price')\n",
    "# plt.legend()\n",
    "# plt.subplot(2, 1, 2)\n",
    "# plt.title('Volume Traded')\n",
    "# plt.bar(x=df2.index,height=df2['Volume'])\n",
    "# plt.show()"
   ]
  },
  {
   "cell_type": "code",
   "execution_count": null,
   "metadata": {},
   "outputs": [],
   "source": []
  },
  {
   "attachments": {},
   "cell_type": "markdown",
   "metadata": {},
   "source": [
    "### ARIMA MODEL"
   ]
  },
  {
   "cell_type": "code",
   "execution_count": 8,
   "metadata": {},
   "outputs": [],
   "source": [
    "data = list(df2[\"Open\"])"
   ]
  },
  {
   "cell_type": "code",
   "execution_count": 9,
   "metadata": {},
   "outputs": [],
   "source": [
    "# from statsmodels.tsa.stattools import adfuller\n",
    "\n",
    "# result = adfuller(data)\n",
    "# print(\"1. ADF : \",result[0])\n",
    "# print(\"2. P-Value : \", result[1])\n",
    "# print(\"3. Num Of Lags : \", result[2])\n",
    "# print(\"4. Num Of Observations Used For ADF Regression:\", result[3])\n",
    "# print(\"5. Critical Values :\")\n",
    "# for key, val in result[4].items():\n",
    "#   print(\"\\t\",key, \": \", val)"
   ]
  },
  {
   "cell_type": "code",
   "execution_count": 10,
   "metadata": {},
   "outputs": [],
   "source": [
    "# from pmdarima.arima.utils import ndiffs\n",
    "# d_value = ndiffs(data,test = \"adf\")\n",
    "# print(\"d value:\", d_value)"
   ]
  },
  {
   "cell_type": "code",
   "execution_count": 11,
   "metadata": {},
   "outputs": [],
   "source": [
    "from statsmodels.tsa.arima.model import ARIMA\n",
    "from pmdarima import auto_arima"
   ]
  },
  {
   "cell_type": "code",
   "execution_count": 12,
   "metadata": {},
   "outputs": [
    {
     "name": "stdout",
     "output_type": "stream",
     "text": [
      "1159 100\n"
     ]
    }
   ],
   "source": [
    "x_train= data[:-100]\n",
    "x_test = data[-100:]\n",
    "print(len(x_train),len(x_test))"
   ]
  },
  {
   "cell_type": "code",
   "execution_count": 13,
   "metadata": {},
   "outputs": [],
   "source": [
    "# stepwise_fit = auto_arima(data,trace=True,suppress_warnings=True)\n",
    "# print(stepwise_fit.summary())"
   ]
  },
  {
   "cell_type": "code",
   "execution_count": 14,
   "metadata": {},
   "outputs": [],
   "source": [
    "import statsmodels.api as sm\n",
    "model = sm.tsa.arima.ARIMA(data, order=(5,2,0)) #In this code, we are specifying order=(5,2,0) which means that we want to fit an ARIMA model with p=5, d=2, and q=0. This indicates that we are including the previous five observations (lags) in the autoregressive model and we have differenced the data twice to make it stationary.\n",
    "model = model.fit()"
   ]
  },
  {
   "cell_type": "code",
   "execution_count": 15,
   "metadata": {},
   "outputs": [
    {
     "data": {
      "text/plain": [
       "array([280.47120635, 289.65466302, 293.34127689, 289.18820743,\n",
       "       293.36830012, 293.57729224, 291.44497699, 290.67860404,\n",
       "       288.78355316, 281.27445998, 274.4786924 , 272.9049325 ,\n",
       "       274.86183923, 276.59053115, 262.32258016, 264.33357743,\n",
       "       264.11094218, 255.61490406, 258.93196566, 252.55749615,\n",
       "       252.49961996, 256.06828733, 259.12143818, 266.34094776,\n",
       "       258.61232775, 253.59726279, 249.89955923, 242.23657866,\n",
       "       239.34249792, 237.88361372, 241.27420379, 235.27039147,\n",
       "       237.69434101, 236.23703164, 239.03001141, 236.11039819,\n",
       "       237.66112268, 238.60212301, 234.63835587, 246.1268891 ,\n",
       "       246.78292504, 249.21311457, 242.11412971, 232.89614721,\n",
       "       227.22998137, 222.14251753, 215.32444549, 232.24351237,\n",
       "       234.42211838, 243.62915887, 239.6788297 , 237.76042858,\n",
       "       238.17308727, 244.46464688, 248.7022785 , 229.479265  ,\n",
       "       230.86550405, 225.75734509, 232.41436931, 232.70862418,\n",
       "       226.00356347, 219.2150213 , 215.92710258, 221.13347468,\n",
       "       226.76304637, 225.53903622, 235.98921553, 246.80010383,\n",
       "       245.82896012, 249.82738539, 245.89363333, 239.9142391 ,\n",
       "       245.07196978, 241.16253515, 243.27836125, 245.20260467,\n",
       "       247.77409987, 247.60970008, 241.37292192, 240.80944812,\n",
       "       255.03527315, 250.23560965, 252.22957702, 252.56173446,\n",
       "       245.65928182, 245.93968651, 243.26110564, 246.51527175,\n",
       "       262.38706329, 257.95034968, 255.25760771, 250.64878088,\n",
       "       245.29725562, 238.40958138, 237.98515504, 238.34385723,\n",
       "       232.8747977 , 237.04651549, 235.69371912, 234.72548564])"
      ]
     },
     "execution_count": 15,
     "metadata": {},
     "output_type": "execute_result"
    }
   ],
   "source": [
    "start=len(x_train)\n",
    "end=len(x_train)+len(x_test)-1\n",
    "pred = model.predict(start=start,end=end)\n",
    "pred"
   ]
  },
  {
   "cell_type": "code",
   "execution_count": 16,
   "metadata": {},
   "outputs": [
    {
     "data": {
      "text/plain": [
       "Date\n",
       "2022-08-10    280.471206\n",
       "2022-08-11    289.654663\n",
       "2022-08-12    293.341277\n",
       "2022-08-15    289.188207\n",
       "2022-08-16    293.368300\n",
       "                 ...    \n",
       "2022-12-23    238.343857\n",
       "2022-12-27    232.874798\n",
       "2022-12-28    237.046515\n",
       "2022-12-29    235.693719\n",
       "2022-12-30    234.725486\n",
       "Length: 100, dtype: float64"
      ]
     },
     "execution_count": 16,
     "metadata": {},
     "output_type": "execute_result"
    }
   ],
   "source": [
    "s = pd.Series(pred, index =df2.index[-100:])\n",
    "s"
   ]
  },
  {
   "cell_type": "code",
   "execution_count": 17,
   "metadata": {},
   "outputs": [],
   "source": [
    "# plt.figure(figsize=(7,4), dpi=100)\n",
    "# df2['Open'][-100:].plot(label='Actual Stock Price', legend=True)\n",
    "# s.plot(label='Predicted Price', legend=True,)"
   ]
  },
  {
   "cell_type": "code",
   "execution_count": 18,
   "metadata": {},
   "outputs": [],
   "source": [
    "# from statsmodels.graphics.tsaplots import plot_predict\n",
    "# plot_predict(model, start = len(data)-500, end = len(data)+10, dynamic = False);"
   ]
  },
  {
   "cell_type": "code",
   "execution_count": 19,
   "metadata": {},
   "outputs": [],
   "source": [
    "# from sklearn.metrics import mean_squared_error\n",
    "# np.sqrt(mean_squared_error(x_test,pred))\n"
   ]
  },
  {
   "cell_type": "code",
   "execution_count": 20,
   "metadata": {},
   "outputs": [],
   "source": [
    "# # Calculate RMSE\n",
    "# rmse = np.sqrt(mean_squared_error)\n",
    "# print('RMSE:', rmse)"
   ]
  },
  {
   "cell_type": "code",
   "execution_count": 21,
   "metadata": {},
   "outputs": [],
   "source": [
    "# from sklearn.metrics import r2_score\n",
    "# r2_score(x_test,pred)"
   ]
  },
  {
   "cell_type": "code",
   "execution_count": 22,
   "metadata": {},
   "outputs": [
    {
     "data": {
      "text/plain": [
       "array([234.72548564, 237.64113347, 236.91483209, 236.93725441,\n",
       "       236.79928629, 236.80986564, 236.97545239, 236.74460483,\n",
       "       236.58538088, 236.53704489, 236.4923852 ])"
      ]
     },
     "execution_count": 22,
     "metadata": {},
     "output_type": "execute_result"
    }
   ],
   "source": [
    "pred_future = model.predict(start=end,end=end+10)\n",
    "pred_future"
   ]
  },
  {
   "cell_type": "code",
   "execution_count": 23,
   "metadata": {},
   "outputs": [],
   "source": [
    "import datetime\n",
    "start_date = datetime.datetime(2022,12,31)\n",
    "dates = [start_date + datetime.timedelta(days=idx) for idx in range(11)]"
   ]
  },
  {
   "cell_type": "code",
   "execution_count": 24,
   "metadata": {},
   "outputs": [
    {
     "data": {
      "text/plain": [
       "2022-12-31    234.725486\n",
       "2023-01-01    237.641133\n",
       "2023-01-02    236.914832\n",
       "2023-01-03    236.937254\n",
       "2023-01-04    236.799286\n",
       "2023-01-05    236.809866\n",
       "2023-01-06    236.975452\n",
       "2023-01-07    236.744605\n",
       "2023-01-08    236.585381\n",
       "2023-01-09    236.537045\n",
       "2023-01-10    236.492385\n",
       "dtype: float64"
      ]
     },
     "execution_count": 24,
     "metadata": {},
     "output_type": "execute_result"
    }
   ],
   "source": [
    "pred_future2 = pd.Series(pred_future, index = dates)\n",
    "pred_future2"
   ]
  },
  {
   "cell_type": "code",
   "execution_count": 25,
   "metadata": {},
   "outputs": [],
   "source": [
    "# plt.figure(figsize=(10,6), dpi=100)\n",
    "# df2['Close'][-200:].plot(label='Actual Stock Price', legend=True)\n",
    "# pred_future2.plot(label='Future Predicted Price', legend=True)"
   ]
  },
  {
   "attachments": {},
   "cell_type": "markdown",
   "metadata": {},
   "source": [
    "## Comparing predicted prices with real prices"
   ]
  },
  {
   "cell_type": "code",
   "execution_count": 26,
   "metadata": {},
   "outputs": [],
   "source": [
    "check_df = pd.read_csv(\"Microsoft_Stock_Price_Test.csv\")"
   ]
  },
  {
   "cell_type": "code",
   "execution_count": 27,
   "metadata": {},
   "outputs": [],
   "source": [
    "check_df.Date= pd.to_datetime(check_df.Date)\n",
    "check_df2 =check_df.set_index('Date')"
   ]
  },
  {
   "cell_type": "code",
   "execution_count": 28,
   "metadata": {},
   "outputs": [],
   "source": [
    "# check_df2"
   ]
  },
  {
   "cell_type": "code",
   "execution_count": 29,
   "metadata": {},
   "outputs": [
    {
     "data": {
      "image/png": "[encoded data removed]",
      "text/plain": [
       "<Figure size 900x500 with 2 Axes>"
      ]
     },
     "metadata": {},
     "output_type": "display_data"
    }
   ],
   "source": [
    "plt.figure(figsize=(9,5), dpi=100)\n",
    "plt.subplot(1, 2, 1)\n",
    "plt.suptitle('Microsoft Stock Price Prediction')\n",
    "pred_future2.plot(label='Predicted Microsoft Stock Price', legend=True, color='orange')\n",
    "plt.subplot(1, 2, 2)\n",
    "check_df2['Open'].plot(label='Actual Microsoft Stock Price', legend=True)\n",
    "plt.show()"
   ]
  },
  {
   "attachments": {},
   "cell_type": "markdown",
   "metadata": {},
   "source": [
    "## Evaluating the model\n",
    "### Showing the closeness of predicted value and actual value"
   ]
  },
  {
   "cell_type": "code",
   "execution_count": 30,
   "metadata": {},
   "outputs": [
    {
     "name": "stdout",
     "output_type": "stream",
     "text": [
      "Root Mean Squared Error: 5.761355235524902\n",
      "Mean Absoulte Error: 4.537731179455768\n"
     ]
    }
   ],
   "source": [
    "# RMSE\n",
    "rmse = np.sqrt(mean_squared_error(x_test, pred))\n",
    "print('Root Mean Squared Error:', rmse)\n",
    "# Calculate MAE\n",
    "mae = mean_absolute_error(x_test, pred)\n",
    "print('Mean Absoulte Error:', mae)"
   ]
  },
  {
   "attachments": {},
   "cell_type": "markdown",
   "metadata": {},
   "source": [
    "### Showing the variance in the Target variable"
   ]
  },
  {
   "cell_type": "code",
   "execution_count": 31,
   "metadata": {},
   "outputs": [
    {
     "name": "stdout",
     "output_type": "stream",
     "text": [
      "R2 score:  0.8932286368566209\n"
     ]
    }
   ],
   "source": [
    "# R-squared to show how well the model fits the data\n",
    "r2 = r2_score(x_test, pred)\n",
    "print(\"R2 score: \", r2)\n"
   ]
  },
  {
   "cell_type": "code",
   "execution_count": 32,
   "metadata": {},
   "outputs": [
    {
     "name": "stdout",
     "output_type": "stream",
     "text": [
      "Mean Squared Error: 33.1932141499102\n"
     ]
    }
   ],
   "source": [
    "# Calculate MSE\n",
    "mse = mean_squared_error(x_test, pred)\n",
    "print('Mean Squared Error:', mse)"
   ]
  },
  {
   "cell_type": "code",
   "execution_count": 33,
   "metadata": {},
   "outputs": [
    {
     "name": "stdout",
     "output_type": "stream",
     "text": [
      "RMSE: 5.761355235524902\n"
     ]
    }
   ],
   "source": [
    "# Calculate RMSE\n",
    "rmse = np.sqrt(mse)\n",
    "print('RMSE:', rmse)"
   ]
  }
 ],
 "metadata": {
  "kernelspec": {
   "display_name": "Python 3",
   "language": "python",
   "name": "python3"
  },
  "language_info": {
   "codemirror_mode": {
    "name": "ipython",
    "version": 3
   },
   "file_extension": ".py",
   "mimetype": "text/x-python",
   "name": "python",
   "nbconvert_exporter": "python",
   "pygments_lexer": "ipython3",
   "version": "3.9.6"
  },
  "orig_nbformat": 4,
  "vscode": {
   "interpreter": {
    "hash": "bf4fbbcfb44b62809ee9ef976aff62d8f85ac4ea82e40788fda9594addf376e6"
   }
  }
 },
 "nbformat": 4,
 "nbformat_minor": 2
}
